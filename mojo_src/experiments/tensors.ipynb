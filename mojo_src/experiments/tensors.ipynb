{
 "cells": [
  {
   "cell_type": "code",
   "execution_count": 1,
   "metadata": {},
   "outputs": [],
   "source": [
    "from tensor import Tensor, TensorShape\n",
    "from math import exp\n",
    "from memory import memset_zero\n",
    "from utils.index import Index\n",
    "from algorithm import vectorize, parallelize\n",
    "from sys.info import simdwidthof, num_logical_cores\n",
    "from pathlib import Path\n",
    "from time import perf_counter_ns"
   ]
  },
  {
   "cell_type": "code",
   "execution_count": 2,
   "metadata": {},
   "outputs": [],
   "source": [
    "alias simd_width = simdwidthof[DType.float64]()\n",
    "\n",
    "fn relu_p(mut Z: Tensor[DType.float64]):\n",
    "        @parameter\n",
    "        fn par_relu(idx: Int):\n",
    "            var val = Z.load(idx)\n",
    "            val = val if val > 0.0 else 0.0\n",
    "            Z.store(idx, val)\n",
    "        parallelize[par_relu](Z.num_elements(), num_logical_cores())\n",
    "\n",
    "fn relu_v(mut Z: Tensor[DType.float64]):\n",
    "        @parameter\n",
    "        fn vec_relu[simd_width: Int](idx: Int):\n",
    "            var val = Z.load(idx)\n",
    "            val = val if val > 0.0 else 0.0\n",
    "            Z.store(idx, val)\n",
    "        vectorize[vec_relu, 1](Z.num_elements())\n",
    "\n",
    "fn relu_naive(mut Z: Tensor[DType.float64]):\n",
    "        for i in range(Z.num_elements()):\n",
    "            var val = Z.load(i)\n",
    "            val = val if val > 0.0 else 0.0\n",
    "            Z[i] = val"
   ]
  },
  {
   "cell_type": "code",
   "execution_count": 6,
   "metadata": {},
   "outputs": [],
   "source": [
    "data = Tensor[DType.float64].rand(TensorShape(5,5))"
   ]
  },
  {
   "cell_type": "code",
   "execution_count": 7,
   "metadata": {},
   "outputs": [
    {
     "name": "stdout",
     "output_type": "stream",
     "text": [
      "Tensor([[0.15127278977429223, 0.9488624771994429, 0.042604254384452735, 0.7350890711043733, 0.4654970324670612],\n",
      "[0.22253954059087414, 0.5714842245677251, 0.6045694129188303, 0.6980017822078154, 0.6646856570492514],\n",
      "[0.17365220998817027, 0.7514945491537615, 0.8249168959647479, 0.7530959085885771, 0.3190492933293315],\n",
      "[0.53255122988184, 0.14755412846594945, 0.7926281295579826, 0.912530994870465, 0.7943811413703469],\n",
      "[0.009408400669171892, 0.5100528533444851, 0.29559365769497986, 0.5599189394718442, 0.5041725145911186]], dtype=float64, shape=5x5)\n"
     ]
    }
   ],
   "source": [
    "print(data)"
   ]
  },
  {
   "cell_type": "code",
   "execution_count": 3,
   "metadata": {},
   "outputs": [],
   "source": [
    "\n",
    "fn get_test_data() -> Tensor[DType.float64]:\n",
    "    var test = Tensor[DType.float64].rand(TensorShape(5,5))\n",
    "    var iter = 6\n",
    "    for i in range(iter):\n",
    "        test[i] = -0.1234\n",
    "    return test^"
   ]
  },
  {
   "cell_type": "code",
   "execution_count": 4,
   "metadata": {},
   "outputs": [
    {
     "name": "stdout",
     "output_type": "stream",
     "text": [
      "Testing relu (parallelized) ...\n",
      "Tensor([[-0.1234, -0.1234, -0.1234, -0.1234, -0.1234],\n",
      "[-0.1234, 0.8095666534273713, 0.511712552800469, 0.9950845483070253, 0.9666113633007903],\n",
      "[0.4260508274422977, 0.6529987269106764, 0.9615331095757897, 0.8579873390871509, 0.29402614920162445],\n",
      "[0.4146445788282588, 0.5148929051767301, 0.7897845320287156, 0.5442728017352926, 0.09362991190499959],\n",
      "[0.43225952539313756, 0.8449274386695605, 0.7728464640854276, 0.19185895447404114, 0.7803667619751494]], dtype=float64, shape=5x5)\n",
      "Time taken for parallel relu:  361159000\n"
     ]
    }
   ],
   "source": [
    "print(\"Testing relu (parallelized) ...\")\n",
    "test = get_test_data()\n",
    "print(test)\n",
    "var start = perf_counter_ns()\n",
    "relu_test = relu_p(test)\n",
    "var end = perf_counter_ns()\n",
    "print(\"Time taken for parallel relu: \", end - start)"
   ]
  },
  {
   "cell_type": "code",
   "execution_count": 4,
   "metadata": {},
   "outputs": [
    {
     "name": "stdout",
     "output_type": "stream",
     "text": [
      "Testing relu (vectorized) ...\n",
      "Tensor([[-0.1234, -0.1234, -0.1234, -0.1234, -0.1234],\n",
      "[-0.1234, 0.8095666534273713, 0.511712552800469, 0.9950845483070253, 0.9666113633007903],\n",
      "[0.4260508274422977, 0.6529987269106764, 0.9615331095757897, 0.8579873390871509, 0.29402614920162445],\n",
      "[0.4146445788282588, 0.5148929051767301, 0.7897845320287156, 0.5442728017352926, 0.09362991190499959],\n",
      "[0.43225952539313756, 0.8449274386695605, 0.7728464640854276, 0.19185895447404114, 0.7803667619751494]], dtype=float64, shape=5x5)\n",
      "Time taken for vectorized relu:  0\n"
     ]
    }
   ],
   "source": [
    "print(\"Testing relu (vectorized) ...\")\n",
    "test = get_test_data()\n",
    "print(test)\n",
    "var start = perf_counter_ns()\n",
    "relu_test = relu_v(test)\n",
    "var end = perf_counter_ns()\n",
    "print(\"Time taken for vectorized relu: \", end - start)"
   ]
  },
  {
   "cell_type": "code",
   "execution_count": 4,
   "metadata": {},
   "outputs": [
    {
     "name": "stdout",
     "output_type": "stream",
     "text": [
      "Testing relu (naive) ...\n",
      "Tensor([[-0.1234, -0.1234, -0.1234, -0.1234, -0.1234],\n",
      "[-0.1234, 0.8095666534273713, 0.511712552800469, 0.9950845483070253, 0.9666113633007903],\n",
      "[0.4260508274422977, 0.6529987269106764, 0.9615331095757897, 0.8579873390871509, 0.29402614920162445],\n",
      "[0.4146445788282588, 0.5148929051767301, 0.7897845320287156, 0.5442728017352926, 0.09362991190499959],\n",
      "[0.43225952539313756, 0.8449274386695605, 0.7728464640854276, 0.19185895447404114, 0.7803667619751494]], dtype=float64, shape=5x5)\n",
      "Time taken for naive relu:  0\n"
     ]
    }
   ],
   "source": [
    "print(\"Testing relu (naive) ...\")\n",
    "test = get_test_data()\n",
    "print(test)\n",
    "var start = perf_counter_ns()\n",
    "relu_test = relu_naive(test)\n",
    "var end = perf_counter_ns()\n",
    "print(\"Time taken for naive relu: \", end - start) "
   ]
  },
  {
   "cell_type": "code",
   "execution_count": 11,
   "metadata": {},
   "outputs": [],
   "source": [
    "alias simd_width = simdwidthof[DType.float64]()"
   ]
  },
  {
   "cell_type": "code",
   "execution_count": 7,
   "metadata": {},
   "outputs": [],
   "source": [
    "data = Tensor[DType.float64].rand(TensorShape(5,5))"
   ]
  },
  {
   "cell_type": "code",
   "execution_count": 8,
   "metadata": {},
   "outputs": [
    {
     "name": "stdout",
     "output_type": "stream",
     "text": [
      "Tensor([[0.18134318080109246, 0.5791414993698616, 0.3141314421629415, 0.41198460537139914, 0.9923054645273369],\n",
      "[0.16392240715441422, 0.3348481652178885, 0.07621820113073051, 0.17452387068320302, 0.03729991406033618],\n",
      "[0.46741478351829246, 0.6741126849908573, 0.06670325213429425, 0.3897824960817898, 0.16539865616786326],\n",
      "[0.9908042838518297, 0.8706391467036878, 0.6726526082342286, 0.5877058877560577, 0.2550143756256123],\n",
      "[0.5930454446864455, 0.27172003800053696, 0.27048116584257825, 0.09593022874939665, 0.6325562987072375]], dtype=float64, shape=5x5)\n"
     ]
    }
   ],
   "source": [
    "print(data)"
   ]
  },
  {
   "cell_type": "code",
   "execution_count": 2,
   "metadata": {},
   "outputs": [],
   "source": [
    "from algorithm.reduction import sum \n",
    "from buffer import Buffer, NDBuffer, DimList\n",
    "\n",
    "fn _sum(z: Tensor[DType.float64]) -> Float64:\n",
    "        try:\n",
    "            return sum(Buffer[DType.float64](z.unsafe_ptr(), z.num_elements()))\n",
    "        except:\n",
    "            return 0.0"
   ]
  },
  {
   "cell_type": "code",
   "execution_count": 52,
   "metadata": {},
   "outputs": [],
   "source": [
    "testsum = Tensor[DType.float64].rand(TensorShape(1,3))"
   ]
  },
  {
   "cell_type": "code",
   "execution_count": 53,
   "metadata": {},
   "outputs": [
    {
     "name": "stdout",
     "output_type": "stream",
     "text": [
      "Tensor([[0.15127278977429223, 0.9488624771994429, 0.042604254384452735]], dtype=float64, shape=1x3)\n"
     ]
    }
   ],
   "source": [
    "print(testsum)"
   ]
  },
  {
   "cell_type": "code",
   "execution_count": 54,
   "metadata": {},
   "outputs": [
    {
     "name": "stdout",
     "output_type": "stream",
     "text": [
      "1.142739521358188\n"
     ]
    }
   ],
   "source": [
    "print(_sum(testsum))"
   ]
  },
  {
   "cell_type": "code",
   "execution_count": 66,
   "metadata": {},
   "outputs": [],
   "source": [
    "@staticmethod\n",
    "fn transpose(x: Tensor[DType.int8]) -> Tensor[DType.int8]:\n",
    "    var shape = x.shape()\n",
    "    var result = Tensor[DType.int8](TensorShape(shape[1], shape[0]))\n",
    "    if x.num_elements() < 768:\n",
    "        for i in range(shape[0]):\n",
    "            for j in range(shape[1]):\n",
    "                result[VariadicList(j, i)] = x[i, j]\n",
    "    else:\n",
    "        @parameter\n",
    "        fn transpose_parallel(idx: Int):\n",
    "            var i = idx // shape[1]\n",
    "            var j = idx % shape[1]\n",
    "            result[VariadicList(j, i)] = x[i, j]\n",
    "        parallelize[transpose_parallel](shape[0] * shape[1], num_logical_cores())\n",
    "    return result^"
   ]
  },
  {
   "cell_type": "code",
   "execution_count": 100,
   "metadata": {},
   "outputs": [],
   "source": [
    "test_t = Tensor[DType.int8].rand(TensorShape(5,5))"
   ]
  },
  {
   "cell_type": "code",
   "execution_count": 76,
   "metadata": {},
   "outputs": [
    {
     "name": "stdout",
     "output_type": "stream",
     "text": [
      "Tensor([[0, 0, 0, 0, 0],\n",
      "[0, 1, 1, 0, 0],\n",
      "[1, 0, 0, 1, 0],\n",
      "[0, 1, 0, 1, 0],\n",
      "[0, 0, 0, 0, 0]], dtype=int8, shape=5x5)\n"
     ]
    }
   ],
   "source": [
    "print(test_t)"
   ]
  },
  {
   "cell_type": "code",
   "execution_count": 77,
   "metadata": {},
   "outputs": [
    {
     "name": "stdout",
     "output_type": "stream",
     "text": [
      "Tensor([[0, 0, 1, 0, 0],\n",
      "[0, 1, 0, 1, 0],\n",
      "[0, 1, 0, 0, 0],\n",
      "[0, 0, 1, 1, 0],\n",
      "[0, 0, 0, 0, 0]], dtype=int8, shape=5x5)\n"
     ]
    }
   ],
   "source": [
    "print(transpose(test_t))"
   ]
  },
  {
   "cell_type": "code",
   "execution_count": 3,
   "metadata": {},
   "outputs": [],
   "source": [
    "from algorithm.reduction import sum, max\n",
    "from buffer import Buffer, NDBuffer, DimList\n",
    "\n",
    "@always_inline\n",
    "fn _max(z: Tensor[DType.float64]) -> Float64:\n",
    "    try:\n",
    "        return max(\n",
    "            Buffer[DType.float64](\n",
    "                z.unsafe_ptr(), \n",
    "                z.num_elements()\n",
    "            )\n",
    "        )\n",
    "    except:\n",
    "        return 0.0"
   ]
  },
  {
   "cell_type": "code",
   "execution_count": 189,
   "metadata": {},
   "outputs": [],
   "source": [
    "\n",
    "fn one_hot(Y: Tensor[DType.float64]) -> Tensor[DType.float64]:\n",
    "    var num_classes = (_max(Y) + 1).cast[DType.int32]().value\n",
    "    var num_samples = Y.num_elements()\n",
    "    var result = Tensor[DType.float64](TensorShape(num_samples, num_classes))\n",
    "    memset_zero(result.unsafe_ptr(), result.num_elements())    \n",
    "    if num_samples < 768:\n",
    "        for i in range(num_samples):\n",
    "            result[VariadicList(i, (Y[i]).cast[DType.int32]().value)] = 1.0\n",
    "    else:\n",
    "        @parameter\n",
    "        fn one_hot_parallel(i: Int):\n",
    "            result[VariadicList(i, (Y[i]).cast[DType.int32]().value)] = 1.0\n",
    "        parallelize[one_hot_parallel](num_samples, num_logical_cores())    \n",
    "    return result^"
   ]
  },
  {
   "cell_type": "code",
   "execution_count": 186,
   "metadata": {},
   "outputs": [],
   "source": [
    "dee = Tensor[DType.float64].rand(TensorShape(1,4))\n",
    "dee[0] = 0\n",
    "dee[1] = 1\n",
    "dee[2] = 2\n",
    "dee[3] = 3"
   ]
  },
  {
   "cell_type": "code",
   "execution_count": 190,
   "metadata": {},
   "outputs": [
    {
     "name": "stdout",
     "output_type": "stream",
     "text": [
      "Tensor([[0.0, 1.0, 2.0, 3.0]], dtype=float64, shape=1x4)\n"
     ]
    }
   ],
   "source": [
    "print(dee)"
   ]
  },
  {
   "cell_type": "code",
   "execution_count": 191,
   "metadata": {},
   "outputs": [
    {
     "name": "stdout",
     "output_type": "stream",
     "text": [
      "3\n"
     ]
    }
   ],
   "source": [
    "print((_max(dee)).cast[DType.int32]())"
   ]
  },
  {
   "cell_type": "code",
   "execution_count": 181,
   "metadata": {},
   "outputs": [
    {
     "name": "stdout",
     "output_type": "stream",
     "text": [
      "0\n",
      "1\n",
      "2\n",
      "3\n"
     ]
    }
   ],
   "source": [
    "for i in range(dee.num_elements()):\n",
    "    print(i)"
   ]
  },
  {
   "cell_type": "code",
   "execution_count": 192,
   "metadata": {},
   "outputs": [
    {
     "name": "stdout",
     "output_type": "stream",
     "text": [
      "Tensor([[1.0, 0.0, 0.0, 0.0],\n",
      "[0.0, 1.0, 0.0, 0.0],\n",
      "[0.0, 0.0, 1.0, 0.0],\n",
      "[0.0, 0.0, 0.0, 1.0]], dtype=float64, shape=4x4)\n"
     ]
    }
   ],
   "source": [
    "print(one_hot(dee))"
   ]
  },
  {
   "cell_type": "code",
   "execution_count": 6,
   "metadata": {},
   "outputs": [],
   "source": [
    "var test_slicing = Tensor[DType.float64].rand(TensorShape(6,5))"
   ]
  },
  {
   "cell_type": "code",
   "execution_count": 7,
   "metadata": {},
   "outputs": [
    {
     "name": "stdout",
     "output_type": "stream",
     "text": [
      "Tensor([[0.4260508274422977, 0.6529987269106764, 0.9615331095757897, 0.8579873390871509, 0.29402614920162445],\n",
      "[0.4146445788282588, 0.5148929051767301, 0.7897845320287156, 0.5442728017352926, 0.09362991190499959],\n",
      "[0.43225952539313756, 0.8449274386695605, 0.7728464640854276, 0.19185895447404114, 0.7803667619751494],\n",
      "[0.18134318080109246, 0.5791414993698616, 0.3141314421629415, 0.41198460537139914, 0.9923054645273369],\n",
      "[0.16392240715441422, 0.3348481652178885, 0.07621820113073051, 0.17452387068320302, 0.03729991406033618],\n",
      "[0.46741478351829246, 0.6741126849908573, 0.06670325213429425, 0.3897824960817898, 0.16539865616786326]], dtype=float64, shape=6x5)\n"
     ]
    }
   ],
   "source": [
    "print(test_slicing)"
   ]
  },
  {
   "cell_type": "code",
   "execution_count": 4,
   "metadata": {},
   "outputs": [],
   "source": [
    "var res = Tensor[DType.float64].rand(TensorShape(2,5))"
   ]
  },
  {
   "cell_type": "code",
   "execution_count": 8,
   "metadata": {},
   "outputs": [],
   "source": [
    "for i in range(10):\n",
    "    res[i] = test_slicing[i]"
   ]
  },
  {
   "cell_type": "code",
   "execution_count": 9,
   "metadata": {},
   "outputs": [
    {
     "name": "stdout",
     "output_type": "stream",
     "text": [
      "Tensor([[0.4260508274422977, 0.6529987269106764, 0.9615331095757897, 0.8579873390871509, 0.29402614920162445],\n",
      "[0.4146445788282588, 0.5148929051767301, 0.7897845320287156, 0.5442728017352926, 0.09362991190499959]], dtype=float64, shape=2x5)\n"
     ]
    }
   ],
   "source": [
    "print(res)"
   ]
  },
  {
   "cell_type": "code",
   "execution_count": 22,
   "metadata": {},
   "outputs": [],
   "source": [
    "fn extract_tensor_slice(\n",
    "    data: Tensor[DType.float64], \n",
    "    row_slice: Slice,\n",
    "    col_slice: Slice\n",
    ") -> Tensor[DType.float64]:\n",
    "    var shape = data.shape()\n",
    "    var num_rows = shape[0]\n",
    "    var num_cols = shape[1]\n",
    "    \n",
    "    # Handle Optional[Int] fields properly\n",
    "    var row_start = 0\n",
    "    if row_slice.start:\n",
    "        row_start = row_slice.start.value()\n",
    "    \n",
    "    var row_end = num_rows\n",
    "    if row_slice.end:\n",
    "        row_end = row_slice.end.value()\n",
    "    \n",
    "    var col_start = 0\n",
    "    if col_slice.start:\n",
    "        col_start = col_slice.start.value()\n",
    "    \n",
    "    var col_end = num_cols\n",
    "    if col_slice.end:\n",
    "        col_end = col_slice.end.value()\n",
    "    #### \n",
    "\n",
    "    print(\"Rows:\", row_start, row_end)\n",
    "    print(\"Cols\", col_start, col_end)\n",
    "    \n",
    "    var result_rows = row_end - row_start\n",
    "    var result_cols = col_end - col_start\n",
    "    var result = Tensor[DType.float64](TensorShape(result_rows, result_cols))\n",
    "    \n",
    "    if result_rows * result_cols < 768:\n",
    "        for i in range(row_start, row_end):\n",
    "            for j in range(col_start, col_end):\n",
    "                var src_idx = i * num_cols + j\n",
    "                var dst_idx = (i - row_start) * result_cols + (j - col_start)\n",
    "                result[dst_idx] = data[src_idx]\n",
    "    else:\n",
    "        @parameter\n",
    "        fn copy_parallel(idx: Int):\n",
    "            var i = idx // result_cols + row_start\n",
    "            var j = idx % result_cols + col_start\n",
    "            var src_idx = i * num_cols + j\n",
    "            var dst_idx = (i - row_start) * result_cols + (j - col_start)\n",
    "            result[dst_idx] = data[src_idx]\n",
    "        parallelize[copy_parallel](result_rows * result_cols, num_logical_cores())\n",
    "    \n",
    "    return result^"
   ]
  },
  {
   "cell_type": "code",
   "execution_count": 13,
   "metadata": {},
   "outputs": [],
   "source": [
    "var test_slicing_2 = Tensor[DType.float64].rand(TensorShape(10, 15))"
   ]
  },
  {
   "cell_type": "code",
   "execution_count": 14,
   "metadata": {},
   "outputs": [
    {
     "name": "stdout",
     "output_type": "stream",
     "text": [
      "Tensor([[0.9908042838518297, 0.8706391467036878, 0.6726526082342286, ..., 0.042604254384452735, 0.7350890711043733, 0.4654970324670612],\n",
      "[0.22253954059087414, 0.5714842245677251, 0.6045694129188303, ..., 0.7926281295579826, 0.912530994870465, 0.7943811413703469],\n",
      "[0.009408400669171892, 0.5100528533444851, 0.29559365769497986, ..., 0.9838125130180146, 0.05106257587481831, 0.23980344846901228],\n",
      "..., \n",
      "[0.5962569725749967, 0.9038577297367334, 0.33153151896759714, ..., 0.5346748249147316, 0.9381738040432436, 0.37804446385418006],\n",
      "[0.4923105489317964, 0.6757508295932819, 0.7841881889555006, ..., 0.7902348385001818, 0.13343823221175297, 0.3804549341824962],\n",
      "[0.3735495618019423, 0.3045221754442598, 0.6447990135660072, ..., 0.007085597954154488, 0.26285183921205274, 0.8639008937631493]], dtype=float64, shape=10x15)\n"
     ]
    }
   ],
   "source": [
    "print(test_slicing_2)"
   ]
  },
  {
   "cell_type": "code",
   "execution_count": 23,
   "metadata": {},
   "outputs": [
    {
     "name": "stdout",
     "output_type": "stream",
     "text": [
      "Rows: 1 2\n",
      "Cols 1 4\n",
      "Tensor([[0.5714842245677251, 0.6045694129188303, 0.6980017822078154]], dtype=float64, shape=1x3)\n"
     ]
    }
   ],
   "source": [
    "print(extract_tensor_slice(test_slicing_2, Slice(1,2), Slice(1,4)))"
   ]
  },
  {
   "cell_type": "code",
   "execution_count": 28,
   "metadata": {},
   "outputs": [
    {
     "name": "stdout",
     "output_type": "stream",
     "text": [
      "1\n"
     ]
    }
   ],
   "source": [
    "for i in range(1, 2):\n",
    "    print(i)"
   ]
  },
  {
   "cell_type": "code",
   "execution_count": null,
   "metadata": {},
   "outputs": [],
   "source": []
  }
 ],
 "metadata": {
  "kernelspec": {
   "display_name": "MAX (Conda ENV Mojo kernel)",
   "language": "mojo",
   "name": "mojo"
  },
  "language_info": {
   "codemirror_mode": {
    "name": "mojo"
   },
   "file_extension": ".mojo",
   "mimetype": "text/x-mojo",
   "name": "mojo"
  }
 },
 "nbformat": 4,
 "nbformat_minor": 4
}
